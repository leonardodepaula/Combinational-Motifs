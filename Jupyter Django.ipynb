{
 "cells": [
  {
   "cell_type": "code",
   "execution_count": 1,
   "id": "9fbbfb6c",
   "metadata": {},
   "outputs": [],
   "source": [
    "import os\n",
    "import django\n",
    "os.environ.setdefault('DJANGO_SETTINGS_MODULE', 'combinationalmotifs.settings')\n",
    "os.environ[\"DJANGO_ALLOW_ASYNC_UNSAFE\"] = \"true\"\n",
    "django.setup()"
   ]
  },
  {
   "cell_type": "code",
   "execution_count": 2,
   "id": "0399a054",
   "metadata": {},
   "outputs": [],
   "source": [
    "from core.models import Motif"
   ]
  },
  {
   "cell_type": "code",
   "execution_count": 5,
   "id": "8922432d",
   "metadata": {},
   "outputs": [],
   "source": [
    "motif1 = Motif.add_root(name='Geometrical Motifs', start=1, stop=112)"
   ]
  },
  {
   "cell_type": "code",
   "execution_count": 6,
   "id": "e2c15a95",
   "metadata": {},
   "outputs": [],
   "source": [
    "motif2 = motif1.add_child(name='Knight forks', start=1, stop=63)"
   ]
  },
  {
   "cell_type": "code",
   "execution_count": 7,
   "id": "b6820e24",
   "metadata": {},
   "outputs": [],
   "source": [
    "motif3 = motif2.add_child(name='Removal of protection', start=1, stop=6)"
   ]
  },
  {
   "cell_type": "code",
   "execution_count": null,
   "id": "ebb13892",
   "metadata": {},
   "outputs": [],
   "source": []
  },
  {
   "cell_type": "code",
   "execution_count": null,
   "id": "8c40fd1c",
   "metadata": {},
   "outputs": [],
   "source": []
  },
  {
   "cell_type": "code",
   "execution_count": null,
   "id": "e22a507e",
   "metadata": {},
   "outputs": [],
   "source": []
  },
  {
   "cell_type": "code",
   "execution_count": null,
   "id": "71dc4b8c",
   "metadata": {},
   "outputs": [],
   "source": []
  },
  {
   "cell_type": "code",
   "execution_count": null,
   "id": "06be38bb",
   "metadata": {},
   "outputs": [],
   "source": []
  },
  {
   "cell_type": "code",
   "execution_count": null,
   "id": "3e423ece",
   "metadata": {},
   "outputs": [],
   "source": []
  },
  {
   "cell_type": "code",
   "execution_count": 1,
   "id": "2c46f68d",
   "metadata": {},
   "outputs": [
    {
     "ename": "SyntaxError",
     "evalue": "invalid syntax (1428217660.py, line 1)",
     "output_type": "error",
     "traceback": [
      "\u001b[1;36m  Cell \u001b[1;32mIn[1], line 1\u001b[1;36m\u001b[0m\n\u001b[1;33m    motif = Motif.objects.create(name='', start=, stop=)\u001b[0m\n\u001b[1;37m                                                ^\u001b[0m\n\u001b[1;31mSyntaxError\u001b[0m\u001b[1;31m:\u001b[0m invalid syntax\n"
     ]
    }
   ],
   "source": [
    "motif1 = Motif.objects.create(name='Geometrical Motifs', start=, stop=)\n",
    "motif2 = Motif.objects.create(name='', start=, stop=)\n",
    "motif3 = Motif.objects.create(name='', start=, stop=)\n",
    "motif4 = Motif.objects.create(name='', start=, stop=)\n",
    "motif5 = Motif.objects.create(name='', start=, stop=)\n",
    "motif6 = Motif.objects.create(name='', start=, stop=)\n",
    "motif7 = Motif.objects.create(name='', start=, stop=)\n",
    "motif8 = Motif.objects.create(name='', start=, stop=)\n",
    "motif9 = Motif.objects.create(name='', start=, stop=)\n",
    "motif10 = Motif.objects.create(name='', start=, stop=)\n",
    "motif11 = Motif.objects.create(name='', start=, stop=)\n",
    "motif12 = Motif.objects.create(name='', start=, stop=)\n",
    "motif13 = Motif.objects.create(name='', start=, stop=)\n",
    "motif14 = Motif.objects.create(name='', start=, stop=)\n",
    "motif15 = Motif.objects.create(name='', start=, stop=)\n",
    "motif16 = Motif.objects.create(name='', start=, stop=)\n",
    "motif17 = Motif.objects.create(name='', start=, stop=)\n",
    "motif18 = Motif.objects.create(name='', start=, stop=)\n",
    "motif19 = Motif.objects.create(name='', start=, stop=)\n",
    "motif20 = Motif.objects.create(name='', start=, stop=)\n",
    "motif21 = Motif.objects.create(name='', start=, stop=)\n",
    "motif22 = Motif.objects.create(name='', start=, stop=)\n",
    "motif23 = Motif.objects.create(name='', start=, stop=)\n",
    "motif24 = Motif.objects.create(name='', start=, stop=)\n",
    "motif25 = Motif.objects.create(name='', start=, stop=)\n",
    "motif26 = Motif.objects.create(name='', start=, stop=)\n",
    "motif27 = Motif.objects.create(name='', start=, stop=)\n",
    "motif28 = Motif.objects.create(name='', start=, stop=)\n",
    "motif29 = Motif.objects.create(name='', start=, stop=)\n",
    "motif30 = Motif.objects.create(name='', start=, stop=)\n",
    "motif31 = Motif.objects.create(name='', start=, stop=)\n",
    "motif32 = Motif.objects.create(name='', start=, stop=)\n",
    "motif33 = Motif.objects.create(name='', start=, stop=)\n",
    "motif34 = Motif.objects.create(name='', start=, stop=)\n",
    "motif35 = Motif.objects.create(name='', start=, stop=)\n",
    "motif36 = Motif.objects.create(name='', start=, stop=)\n",
    "motif37 = Motif.objects.create(name='', start=, stop=)\n",
    "motif38 = Motif.objects.create(name='', start=, stop=)\n",
    "motif39 = Motif.objects.create(name='', start=, stop=)\n",
    "motif41 = Motif.objects.create(name='', start=, stop=)\n",
    "motif42 = Motif.objects.create(name='', start=, stop=)\n",
    "motif43 = Motif.objects.create(name='', start=, stop=)\n",
    "motif44 = Motif.objects.create(name='', start=, stop=)\n",
    "motif45 = Motif.objects.create(name='', start=, stop=)\n",
    "motif46 = Motif.objects.create(name='', start=, stop=)\n",
    "motif = Motif.objects.create(name='', start=, stop=)"
   ]
  }
 ],
 "metadata": {
  "kernelspec": {
   "display_name": "Python 3 (ipykernel)",
   "language": "python",
   "name": "python3"
  },
  "language_info": {
   "codemirror_mode": {
    "name": "ipython",
    "version": 3
   },
   "file_extension": ".py",
   "mimetype": "text/x-python",
   "name": "python",
   "nbconvert_exporter": "python",
   "pygments_lexer": "ipython3",
   "version": "3.10.9"
  }
 },
 "nbformat": 4,
 "nbformat_minor": 5
}
